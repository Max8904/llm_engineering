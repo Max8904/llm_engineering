{
 "cells": [
  {
   "cell_type": "markdown",
   "id": "fe12c203-e6a6-452c-a655-afb8a03a4ff5",
   "metadata": {},
   "source": [
    "# End of week 1 exercise\n",
    "\n",
    "To demonstrate your familiarity with OpenAI API, and also Ollama, build a tool that takes a technical question,  \n",
    "and responds with an explanation. This is a tool that you will be able to use yourself during the course!"
   ]
  },
  {
   "cell_type": "code",
   "execution_count": 1,
   "id": "c1070317-3ed9-4659-abe3-828943230e03",
   "metadata": {},
   "outputs": [],
   "source": [
    "# imports\n",
    "from dotenv import load_dotenv\n",
    "from openai import OpenAI\n",
    "import ollama\n",
    "from IPython.display import display, Markdown, update_display"
   ]
  },
  {
   "cell_type": "code",
   "execution_count": 2,
   "id": "4a456906-915a-4bfd-bb9d-57e505c5093f",
   "metadata": {},
   "outputs": [],
   "source": [
    "# constants\n",
    "\n",
    "MODEL_GPT = 'gpt-4o-mini'\n",
    "MODEL_LLAMA = 'llama3.2'"
   ]
  },
  {
   "cell_type": "code",
   "execution_count": 3,
   "id": "a8d7923c-5f28-4c30-8556-342d7c8497c1",
   "metadata": {},
   "outputs": [],
   "source": [
    "# set up environment\n",
    "load_dotenv()\n",
    "openai = OpenAI()"
   ]
  },
  {
   "cell_type": "code",
   "execution_count": 4,
   "id": "3f0d0137-52b0-47a8-81a8-11a90a010798",
   "metadata": {},
   "outputs": [],
   "source": [
    "# here is the question; type over this to ask something new\n",
    "\n",
    "question = \"\"\"\n",
    "Please explain what this code does and why:\n",
    "yield from {book.get(\"author\") for book in books if book.get(\"author\")}\n",
    "\"\"\"\n"
   ]
  },
  {
   "cell_type": "code",
   "execution_count": 5,
   "id": "60ce7000-a4a5-4cce-a261-e75ef45063b4",
   "metadata": {},
   "outputs": [
    {
     "data": {
      "text/markdown": [
       "The given line of code is a Python generator expression that utilizes the `yield from` construct alongside a set comprehension. Let's break down the components:\n",
       "\n",
       "1. **`{book.get(\"author\") for book in books if book.get(\"author\")}`**:\n",
       "   - This part is a set comprehension, which constructs a set—a collection that stores unique items.\n",
       "   - `books` is expected to be an iterable collection (like a list) of dictionaries.\n",
       "   - For each `book` in `books`, it attempts to retrieve the value associated with the key `\"author\"` using `book.get(\"author\")`.\n",
       "   - The `if book.get(\"author\")` condition filters out any `book` dictionaries that do not have an author (returns `None` or is falsy).\n",
       "   - As a result, this comprehension creates a set of unique authors extracted from the `books`.\n",
       "\n",
       "2. **`yield from`**:\n",
       "   - The `yield from` statement is used in Python generators. It allows one generator to yield all values from another iterable (in this case, the set created by the comprehension).\n",
       "   - Instead of returning a generator object that must be iterated through, `yield from` allows you to directly yield each element in the set.\n",
       "\n",
       "### Summary of Code Functionality:\n",
       "- The code essentially constructs a set of unique authors from a list of book dictionaries, filtering out books that don't have an author.\n",
       "- Then, using `yield from`, it yields each unique author, making it possible to iterate over them in a generator-based fashion. This is useful in contexts where you want to efficiently produce a sequence of output without storing the entire result in memory.\n",
       "\n",
       "### Why Use This Code:\n",
       "- **Efficiency**: It avoids duplicates by storing authors in a set while collecting them. This leads to an efficient way to handle potentially large collections of `books`.\n",
       "- **Readable**: Using a generator keeps the function memory-efficient compared to accumulating results in a list, especially with potentially large datasets.\n",
       "- **Declarative Style**: The use of set comprehensions and generator expressions leads to more concise and readable code."
      ],
      "text/plain": [
       "<IPython.core.display.Markdown object>"
      ]
     },
     "metadata": {},
     "output_type": "display_data"
    }
   ],
   "source": [
    "# Get gpt-4o-mini to answer, with streaming\n",
    "stream = openai.chat.completions.create(\n",
    "    model = MODEL_GPT,\n",
    "    messages = [\n",
    "        {\"role\": \"user\", \"content\": question}\n",
    "    ],\n",
    "    stream = True\n",
    ")\n",
    "\n",
    "response = \"\"\n",
    "display_handle = display(\"\", display_id = True)\n",
    "for chunk in stream:\n",
    "    response += chunk.choices[0].delta.content or ''\n",
    "    response = response.replace(\"```\",\"\").replace(\"markdown\", \"\")\n",
    "    update_display(Markdown(response), display_id = display_handle.display_id)"
   ]
  },
  {
   "cell_type": "code",
   "execution_count": 6,
   "id": "8f7c8ea8-4082-4ad0-8751-3301adcf6538",
   "metadata": {},
   "outputs": [
    {
     "data": {
      "text/markdown": [
       "This line of code is using a feature of Python called \"yield from\" which was introduced in version 3.3.\n",
       "\n",
       "Let's break it down:\n",
       "\n",
       "- `yield from`: This keyword tells Python to yield values from the iteration over the given iterable.\n",
       "\n",
       "- `{book.get(\"author\") for book in books if book.get(\"author\")}`: This is a dictionary comprehension (a feature of Python that allows you to create dictionaries with a concise syntax).\n",
       "\n",
       "  - `\"author\"`: This is the key to look up in each `book` dictionary.\n",
       "  - `for book in books`: This is iterating over each item (`book`) in the `books` collection.\n",
       "  - `if book.get(\"author\")`: This is an if statement that filters out any items from the iteration where the value associated with `\"author\"` does not exist.\n",
       "\n",
       "So, putting it all together:\n",
       "\n",
       "This line of code will yield author names one at a time from the `books` collection. The condition in the dictionary comprehension (`if book.get(\"author\")`) ensures that only books with an \"author\" key and a corresponding value are included in the iteration.\n",
       "\n",
       "Here's how you might see this used in practice:\n",
       "\n",
       "Let's say you're making a library cataloging application, and you want to be able to iterate over all the authors in your database. You could use this code like so:\n",
       "\n",
       "```python\n",
       "books = [\n",
       "    {\"title\": \"The Great Gatsby\", \"author\": \"F Scott Fitzgerald\"},\n",
       "    {\"title\": \"Pride and Prejudice\", \"author\": None},\n",
       "    {\"title\": \"The Catcher in the Rye\", \"author\": \"J.D. Salinger\"}\n",
       "]\n",
       "\n",
       "authors = yield from {book.get(\"author\") for book in books if book.get(\"author\")}\n",
       "\n",
       "for author in authors:\n",
       "    print(author)\n",
       "```\n",
       "\n",
       "In this example, `yield from` allows you to iterate over a generator expression (the dictionary comprehension) as if it were the result of calling `list()` or `map()`, but actually produces values on-the-fly instead of storing them all in memory at once."
      ],
      "text/plain": [
       "<IPython.core.display.Markdown object>"
      ]
     },
     "metadata": {},
     "output_type": "display_data"
    }
   ],
   "source": [
    "# Get Llama 3.2 to answer\n",
    "response = ollama.chat(model = MODEL_LLAMA, messages = [\n",
    "    {\"role\": \"user\", \"content\": question}\n",
    "])\n",
    "\n",
    "display(Markdown(response.message.content))"
   ]
  },
  {
   "cell_type": "code",
   "execution_count": null,
   "id": "b056a962-95a2-4616-b3f6-5ccf6f649674",
   "metadata": {},
   "outputs": [],
   "source": []
  }
 ],
 "metadata": {
  "kernelspec": {
   "display_name": "Python 3 (ipykernel)",
   "language": "python",
   "name": "python3"
  },
  "language_info": {
   "codemirror_mode": {
    "name": "ipython",
    "version": 3
   },
   "file_extension": ".py",
   "mimetype": "text/x-python",
   "name": "python",
   "nbconvert_exporter": "python",
   "pygments_lexer": "ipython3",
   "version": "3.11.12"
  }
 },
 "nbformat": 4,
 "nbformat_minor": 5
}
