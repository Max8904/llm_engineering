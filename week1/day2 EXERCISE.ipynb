{
 "cells": [
  {
   "cell_type": "markdown",
   "id": "d15d8294-3328-4e07-ad16-8a03e9bbfdb9",
   "metadata": {},
   "source": [
    "# Welcome to your first assignment!\n",
    "\n",
    "Instructions are below. Please give this a try, and look in the solutions folder if you get stuck (or feel free to ask me!)"
   ]
  },
  {
   "cell_type": "markdown",
   "id": "ada885d9-4d42-4d9b-97f0-74fbbbfe93a9",
   "metadata": {},
   "source": [
    "<table style=\"margin: 0; text-align: left;\">\n",
    "    <tr>\n",
    "        <td style=\"width: 150px; height: 150px; vertical-align: middle;\">\n",
    "            <img src=\"../resources.jpg\" width=\"150\" height=\"150\" style=\"display: block;\" />\n",
    "        </td>\n",
    "        <td>\n",
    "            <h2 style=\"color:#f71;\">Just before we get to the assignment --</h2>\n",
    "            <span style=\"color:#f71;\">I thought I'd take a second to point you at this page of useful resources for the course. This includes links to all the slides.<br/>\n",
    "            <a href=\"https://edwarddonner.com/2024/11/13/llm-engineering-resources/\">https://edwarddonner.com/2024/11/13/llm-engineering-resources/</a><br/>\n",
    "            Please keep this bookmarked, and I'll continue to add more useful links there over time.\n",
    "            </span>\n",
    "        </td>\n",
    "    </tr>\n",
    "</table>"
   ]
  },
  {
   "cell_type": "markdown",
   "id": "6e9fa1fc-eac5-4d1d-9be4-541b3f2b3458",
   "metadata": {},
   "source": [
    "# HOMEWORK EXERCISE ASSIGNMENT\n",
    "\n",
    "Upgrade the day 1 project to summarize a webpage to use an Open Source model running locally via Ollama rather than OpenAI\n",
    "\n",
    "You'll be able to use this technique for all subsequent projects if you'd prefer not to use paid APIs.\n",
    "\n",
    "**Benefits:**\n",
    "1. No API charges - open-source\n",
    "2. Data doesn't leave your box\n",
    "\n",
    "**Disadvantages:**\n",
    "1. Significantly less power than Frontier Model\n",
    "\n",
    "## Recap on installation of Ollama\n",
    "\n",
    "Simply visit [ollama.com](https://ollama.com) and install!\n",
    "\n",
    "Once complete, the ollama server should already be running locally.  \n",
    "If you visit:  \n",
    "[http://localhost:11434/](http://localhost:11434/)\n",
    "\n",
    "You should see the message `Ollama is running`.  \n",
    "\n",
    "If not, bring up a new Terminal (Mac) or Powershell (Windows) and enter `ollama serve`  \n",
    "And in another Terminal (Mac) or Powershell (Windows), enter `ollama pull llama3.2`  \n",
    "Then try [http://localhost:11434/](http://localhost:11434/) again.\n",
    "\n",
    "If Ollama is slow on your machine, try using `llama3.2:1b` as an alternative. Run `ollama pull llama3.2:1b` from a Terminal or Powershell, and change the code below from `MODEL = \"llama3.2\"` to `MODEL = \"llama3.2:1b\"`"
   ]
  },
  {
   "cell_type": "code",
   "execution_count": 1,
   "id": "4e2a9393-7767-488e-a8bf-27c12dca35bd",
   "metadata": {},
   "outputs": [],
   "source": [
    "# imports\n",
    "\n",
    "import requests\n",
    "from bs4 import BeautifulSoup\n",
    "from IPython.display import Markdown, display"
   ]
  },
  {
   "cell_type": "code",
   "execution_count": 2,
   "id": "29ddd15d-a3c5-4f4e-a678-873f56162724",
   "metadata": {},
   "outputs": [],
   "source": [
    "# Constants\n",
    "\n",
    "OLLAMA_API = \"http://localhost:11434/api/chat\"\n",
    "HEADERS = {\"Content-Type\": \"application/json\"}\n",
    "MODEL = \"llama3.2\""
   ]
  },
  {
   "cell_type": "code",
   "execution_count": 3,
   "id": "dac0a679-599c-441f-9bf2-ddc73d35b940",
   "metadata": {},
   "outputs": [],
   "source": [
    "# Create a messages list using the same format that we used for OpenAI\n",
    "\n",
    "messages = [\n",
    "    {\"role\": \"user\", \"content\": \"Describe some of the business applications of Generative AI\"}\n",
    "]"
   ]
  },
  {
   "cell_type": "code",
   "execution_count": 4,
   "id": "7bb9c624-14f0-4945-a719-8ddb64f66f47",
   "metadata": {},
   "outputs": [],
   "source": [
    "payload = {\n",
    "        \"model\": MODEL,\n",
    "        \"messages\": messages,\n",
    "        \"stream\": False\n",
    "    }"
   ]
  },
  {
   "cell_type": "code",
   "execution_count": 5,
   "id": "479ff514-e8bd-4985-a572-2ea28bb4fa40",
   "metadata": {},
   "outputs": [
    {
     "name": "stderr",
     "output_type": "stream",
     "text": [
      "\u001b[?2026h\u001b[?25l\u001b[1Gpulling manifest ��� \u001b[K\u001b[?25h\u001b[?2026l\u001b[?2026h\u001b[?25l\u001b[1Gpulling manifest ��� \u001b[K\u001b[?25h\u001b[?2026l\u001b[?2026h\u001b[?25l\u001b[1Gpulling manifest ��� \u001b[K\u001b[?25h\u001b[?2026l\u001b[?2026h\u001b[?25l\u001b[1Gpulling manifest ��� \u001b[K\u001b[?25h\u001b[?2026l\u001b[?2026h\u001b[?25l\u001b[1Gpulling manifest ��� \u001b[K\u001b[?25h\u001b[?2026l\u001b[?2026h\u001b[?25l\u001b[1Gpulling manifest ��� \u001b[K\u001b[?25h\u001b[?2026l\u001b[?2026h\u001b[?25l\u001b[1Gpulling manifest ��� \u001b[K\u001b[?25h\u001b[?2026l\u001b[?2026h\u001b[?25l\u001b[1Gpulling manifest ��� \u001b[K\u001b[?25h\u001b[?2026l\u001b[?2026h\u001b[?25l\u001b[1Gpulling manifest ��� \u001b[K\u001b[?25h\u001b[?2026l\u001b[?2026h\u001b[?25l\u001b[1Gpulling manifest ��� \u001b[K\u001b[?25h\u001b[?2026l\u001b[?2026h\u001b[?25l\u001b[1Gpulling manifest ��� \u001b[K\u001b[?25h\u001b[?2026l\u001b[?2026h\u001b[?25l\u001b[1Gpulling manifest ��� \u001b[K\u001b[?25h\u001b[?2026l\u001b[?2026h\u001b[?25l\u001b[1Gpulling manifest ��� \u001b[K\u001b[?25h\u001b[?2026l\u001b[?2026h\u001b[?25l\u001b[1Gpulling manifest ��� \u001b[K\u001b[?25h\u001b[?2026l\u001b[?2026h\u001b[?25l\u001b[1Gpulling manifest ��� \u001b[K\u001b[?25h\u001b[?2026l\u001b[?2026h\u001b[?25l\u001b[1Gpulling manifest ��� \u001b[K\u001b[?25h\u001b[?2026l\u001b[?2026h\u001b[?25l\u001b[1Gpulling manifest ��� \u001b[K\u001b[?25h\u001b[?2026l\u001b[?2026h\u001b[?25l\u001b[1Gpulling manifest ��� \u001b[K\u001b[?25h\u001b[?2026l\u001b[?2026h\u001b[?25l\u001b[1Gpulling manifest ��� \u001b[K\u001b[?25h\u001b[?2026l\u001b[?2026h\u001b[?25l\u001b[1Gpulling manifest ��� \u001b[K\u001b[?25h\u001b[?2026l\u001b[?2026h\u001b[?25l\u001b[1Gpulling manifest \u001b[K\n",
      "pulling dde5aa3fc5ff... 100% ������������������������������������������������������ 2.0 GB                         \u001b[K\n",
      "pulling 966de95ca8a6... 100% ������������������������������������������������������ 1.4 KB                         \u001b[K\n",
      "pulling fcc5a6bec9da... 100% ������������������������������������������������������ 7.7 KB                         \u001b[K\n",
      "pulling a70ff7e570d9... 100% ������������������������������������������������������ 6.0 KB                         \u001b[K\n",
      "pulling 56bb8bd477a5... 100% ������������������������������������������������������   96 B                         \u001b[K\n",
      "pulling 34bb5ab01051... 100% ������������������������������������������������������  561 B                         \u001b[K\n",
      "verifying sha256 digest \u001b[K\n",
      "writing manifest \u001b[K\n",
      "success \u001b[K\u001b[?25h\u001b[?2026l\n"
     ]
    }
   ],
   "source": [
    "# Let's just make sure the model is loaded\n",
    "\n",
    "!ollama pull llama3.2"
   ]
  },
  {
   "cell_type": "code",
   "execution_count": 6,
   "id": "42b9f644-522d-4e05-a691-56e7658c0ea9",
   "metadata": {},
   "outputs": [
    {
     "name": "stdout",
     "output_type": "stream",
     "text": [
      "Generative AI has numerous business applications across various industries. Some of the most significant uses include:\n",
      "\n",
      "1. **Content Generation**: Generative AI can create high-quality content such as articles, social media posts, product descriptions, and even entire books. This can save time and resources for businesses, allowing them to focus on more strategic tasks.\n",
      "2. **Image and Video Creation**: Generative AI can generate images, videos, and 3D models that are indistinguishable from those created by humans. This has applications in fields such as advertising, e-commerce, and entertainment.\n",
      "3. **Chatbots and Virtual Assistants**: Generative AI can be used to create highly personalized chatbots and virtual assistants that provide exceptional customer service and support.\n",
      "4. **Predictive Analytics**: Generative AI can analyze large amounts of data to identify patterns and make predictions about future trends and behaviors. This can help businesses optimize their operations, predict demand, and make better investment decisions.\n",
      "5. **Personalization**: Generative AI can be used to create personalized experiences for customers, such as tailored product recommendations, customized marketing campaigns, and targeted advertising.\n",
      "6. **Automated Data Entry**: Generative AI can automate data entry tasks by generating reports, summaries, and even entire datasets from raw data.\n",
      "7. **Creative Writing Assistance**: Generative AI can assist writers with tasks such as suggesting plot twists, character development, and even entire storylines.\n",
      "8. **Marketing Automation**: Generative AI can be used to create highly targeted marketing campaigns that automate the process of creating and sending emails, social media posts, and other promotional materials.\n",
      "9. **Product Design and Development**: Generative AI can be used to design new products, optimize product designs, and even generate 3D models for product development.\n",
      "10. **Supply Chain Optimization**: Generative AI can analyze data from supply chains to identify inefficiencies and suggest optimizations that can reduce costs and improve delivery times.\n",
      "\n",
      "Some of the industries that are particularly well-suited to Generative AI include:\n",
      "\n",
      "1. **Media and Entertainment**: Generative AI can be used to create new content, optimize production workflows, and even generate new talent.\n",
      "2. **E-commerce**: Generative AI can help businesses personalize their customer experiences, optimize product recommendations, and automate marketing campaigns.\n",
      "3. **Finance and Banking**: Generative AI can be used to analyze financial data, identify trends, and make predictions about future market movements.\n",
      "4. **Healthcare**: Generative AI can be used to analyze medical data, identify patterns, and develop new treatments for diseases.\n",
      "5. **Manufacturing**: Generative AI can be used to optimize product designs, improve manufacturing processes, and even generate 3D models for production.\n",
      "\n",
      "Overall, the applications of Generative AI are vast and varied, and it is likely that many more industries will adopt this technology in the coming years.\n"
     ]
    }
   ],
   "source": [
    "# If this doesn't work for any reason, try the 2 versions in the following cells\n",
    "# And double check the instructions in the 'Recap on installation of Ollama' at the top of this lab\n",
    "# And if none of that works - contact me!\n",
    "\n",
    "response = requests.post(OLLAMA_API, json=payload, headers=HEADERS)\n",
    "print(response.json()['message']['content'])"
   ]
  },
  {
   "cell_type": "markdown",
   "id": "6a021f13-d6a1-4b96-8e18-4eae49d876fe",
   "metadata": {},
   "source": [
    "# Introducing the ollama package\n",
    "\n",
    "And now we'll do the same thing, but using the elegant ollama python package instead of a direct HTTP call.\n",
    "\n",
    "Under the hood, it's making the same call as above to the ollama server running at localhost:11434"
   ]
  },
  {
   "cell_type": "code",
   "execution_count": 7,
   "id": "7745b9c4-57dc-4867-9180-61fa5db55eb8",
   "metadata": {},
   "outputs": [
    {
     "name": "stdout",
     "output_type": "stream",
     "text": [
      "Generative AI has numerous business applications across various industries, including:\n",
      "\n",
      "1. **Content Creation**: Generative AI can be used to create personalized content such as blog posts, social media posts, and product descriptions. This helps reduce content creation time and cost while maintaining high-quality output.\n",
      "2. **Image and Video Generation**: Companies like Shutterstock and Adobe are using generative AI to generate high-quality images and videos for their customers' marketing campaigns.\n",
      "3. **Personalized Product Recommendations**: Generative AI can be used to analyze customer data and generate personalized product recommendations, improving the overall shopping experience.\n",
      "4. **Chatbots and Virtual Assistants**: Generative AI-powered chatbots can provide 24/7 customer support, help with transactions, and answer frequently asked questions, freeing up human customer service representatives for more complex issues.\n",
      "5. **Marketing Automation**: Generative AI can automate marketing tasks such as lead generation, email campaigns, and social media posting, making it easier to scale marketing efforts without increasing costs.\n",
      "6. **Data Analysis and Visualization**: Generative AI can help analyze and visualize large datasets, providing insights that can inform business decisions, such as market trends and customer behavior.\n",
      "7. **Automated Writing and Editing**: Generative AI-powered tools like Grammarly and Hemingway Editor can assist writers with grammar, syntax, and style suggestions, improving the quality of written content.\n",
      "8. **Predictive Maintenance**: Generative AI can analyze sensor data from machines and predict when maintenance is required, reducing downtime and increasing overall equipment effectiveness.\n",
      "9. **Customer Segmentation**: Generative AI can be used to segment customers based on their behavior, preferences, and demographics, allowing businesses to target specific groups with personalized marketing campaigns.\n",
      "10. **Supply Chain Optimization**: Generative AI can analyze data from supply chains and predict demand fluctuations, helping businesses optimize inventory levels and reduce costs.\n",
      "11. **Insurance Claims Processing**: Generative AI can help insurance companies process claims more efficiently by analyzing medical records, identifying patterns, and making predictions about claim outcomes.\n",
      "12. **Financial Modeling and Forecasting**: Generative AI can be used to analyze financial data and generate forecasts, helping businesses make informed investment decisions.\n",
      "13. **Language Translation**: Generative AI-powered translation tools can help businesses communicate with customers in different languages, expanding their global reach.\n",
      "14. **Music and Audio Generation**: Companies like Spotify and Apple are using generative AI to create new music tracks and audio content for their services.\n",
      "15. **Fashion Design and Styling**: Generative AI can be used to generate new fashion designs, color palettes, and styling suggestions, revolutionizing the fashion industry.\n",
      "\n",
      "These are just a few examples of the many business applications of Generative AI. As this technology continues to evolve, we can expect even more innovative uses across various industries.\n"
     ]
    }
   ],
   "source": [
    "import ollama\n",
    "\n",
    "response = ollama.chat(model=MODEL, messages=messages)\n",
    "print(response['message']['content'])"
   ]
  },
  {
   "cell_type": "markdown",
   "id": "a4704e10-f5fb-4c15-a935-f046c06fb13d",
   "metadata": {},
   "source": [
    "## Alternative approach - using OpenAI python library to connect to Ollama"
   ]
  },
  {
   "cell_type": "code",
   "execution_count": 8,
   "id": "23057e00-b6fc-4678-93a9-6b31cb704bff",
   "metadata": {},
   "outputs": [
    {
     "name": "stdout",
     "output_type": "stream",
     "text": [
      "Generative AI has numerous business applications across various industries. Here are some examples:\n",
      "\n",
      "1. **Content Creation**: Generative AI can produce high-quality content such as articles, social media posts, product descriptions, and more. This can help businesses save time and increase efficiency in their content creation process.\n",
      "2. **Design and Architecture**: Generative AI-powered tools can generate new design concepts, 3D models, and architecture designs for buildings, furniture, and other products. This can be particularly useful for companies that require rapid prototyping or need to create unique designs.\n",
      "3. **Image and Video Generation**: Generative AI can produce realistic images and videos that can be used in various applications such as marketing, product showcasing, and entertainment.\n",
      "4. **Product Recommendation Systems**: Generative AI-powered recommendation systems can analyze customer data and generate personalized product recommendations for e-commerce websites and online marketplaces.\n",
      "5. **Chatbots and Customer Service**: Generative AI-powered chatbots can be used to create more human-like conversations with customers, providing a better customer experience and increasing efficiency in customer support.\n",
      "6. **Predictive Maintenance**: Generative AI can analyze sensor data from machines and predict when maintenance is required, reducing downtime and increasing overall equipment effectiveness (OEE).\n",
      "7. **Supply Chain Optimization**: Generative AI-powered tools can optimize supply chain operations by predicting demand, forecasting inventory levels, and identifying potential bottlenecks.\n",
      "8. **Marketing and Advertising**: Generative AI can generate personalized marketing messages, ads, and promotions that are tailored to each customer's interests and behavior.\n",
      "9. **Financial Modeling and Analysis**: Generative AI can analyze financial data and generate predictions on future performance, helping businesses make more accurate decisions about investment, pricing, and forecasting.\n",
      "10. **Cybersecurity**: Generative AI-powered tools can analyze network traffic patterns and identify potential security threats, helping organizations protect themselves against cyber attacks.\n",
      "\n",
      "Some specific business use cases for Generative AI include:\n",
      "\n",
      "* Using generative models to generate sales copy, product descriptions, or social media posts\n",
      "* Creating virtual assistants or chatbots that can help customers with common queries\n",
      "* Developing custom graphics, videos, or images for marketing campaigns\n",
      "* Generating predictive maintenance schedules or identifying equipment failures\n",
      "* Optimizing business workflows and processes using generative algorithms\n",
      "* Analyzing customer data to predict churn or identify potential upsell opportunities\n",
      "\n",
      "Overall, Generative AI has the potential to revolutionize numerous industries by increasing efficiency, improving decision-making, and enhancing customer experience.\n"
     ]
    }
   ],
   "source": [
    "# There's actually an alternative approach that some people might prefer\n",
    "# You can use the OpenAI client python library to call Ollama:\n",
    "\n",
    "from openai import OpenAI\n",
    "ollama_via_openai = OpenAI(base_url='http://localhost:11434/v1', api_key='ollama')\n",
    "\n",
    "response = ollama_via_openai.chat.completions.create(\n",
    "    model=MODEL,\n",
    "    messages=messages\n",
    ")\n",
    "\n",
    "print(response.choices[0].message.content)"
   ]
  },
  {
   "cell_type": "markdown",
   "id": "9f9e22da-b891-41f6-9ac9-bd0c0a5f4f44",
   "metadata": {},
   "source": [
    "## Are you confused about why that works?\n",
    "\n",
    "It seems strange, right? We just used OpenAI code to call Ollama?? What's going on?!\n",
    "\n",
    "Here's the scoop:\n",
    "\n",
    "The python class `OpenAI` is simply code written by OpenAI engineers that makes calls over the internet to an endpoint.  \n",
    "\n",
    "When you call `openai.chat.completions.create()`, this python code just makes a web request to the following url: \"https://api.openai.com/v1/chat/completions\"\n",
    "\n",
    "Code like this is known as a \"client library\" - it's just wrapper code that runs on your machine to make web requests. The actual power of GPT is running on OpenAI's cloud behind this API, not on your computer!\n",
    "\n",
    "OpenAI was so popular, that lots of other AI providers provided identical web endpoints, so you could use the same approach.\n",
    "\n",
    "So Ollama has an endpoint running on your local box at http://localhost:11434/v1/chat/completions  \n",
    "And in week 2 we'll discover that lots of other providers do this too, including Gemini and DeepSeek.\n",
    "\n",
    "And then the team at OpenAI had a great idea: they can extend their client library so you can specify a different 'base url', and use their library to call any compatible API.\n",
    "\n",
    "That's it!\n",
    "\n",
    "So when you say: `ollama_via_openai = OpenAI(base_url='http://localhost:11434/v1', api_key='ollama')`  \n",
    "Then this will make the same endpoint calls, but to Ollama instead of OpenAI."
   ]
  },
  {
   "cell_type": "markdown",
   "id": "bc7d1de3-e2ac-46ff-a302-3b4ba38c4c90",
   "metadata": {},
   "source": [
    "## Also trying the amazing reasoning model DeepSeek\n",
    "\n",
    "Here we use the version of DeepSeek-reasoner that's been distilled to 1.5B.  \n",
    "This is actually a 1.5B variant of Qwen that has been fine-tuned using synethic data generated by Deepseek R1.\n",
    "\n",
    "Other sizes of DeepSeek are [here](https://ollama.com/library/deepseek-r1) all the way up to the full 671B parameter version, which would use up 404GB of your drive and is far too large for most!"
   ]
  },
  {
   "cell_type": "code",
   "execution_count": null,
   "id": "cf9eb44e-fe5b-47aa-b719-0bb63669ab3d",
   "metadata": {},
   "outputs": [],
   "source": [
    "!ollama pull deepseek-r1:1.5b"
   ]
  },
  {
   "cell_type": "code",
   "execution_count": null,
   "id": "1d3d554b-e00d-4c08-9300-45e073950a76",
   "metadata": {},
   "outputs": [],
   "source": [
    "# This may take a few minutes to run! You should then see a fascinating \"thinking\" trace inside <think> tags, followed by some decent definitions\n",
    "\n",
    "response = ollama_via_openai.chat.completions.create(\n",
    "    model=\"deepseek-r1:1.5b\",\n",
    "    messages=[{\"role\": \"user\", \"content\": \"Please give definitions of some core concepts behind LLMs: a neural network, attention and the transformer\"}]\n",
    ")\n",
    "\n",
    "print(response.choices[0].message.content)"
   ]
  },
  {
   "cell_type": "markdown",
   "id": "1622d9bb-5c68-4d4e-9ca4-b492c751f898",
   "metadata": {},
   "source": [
    "# NOW the exercise for you\n",
    "\n",
    "Take the code from day1 and incorporate it here, to build a website summarizer that uses Llama 3.2 running locally instead of OpenAI; use either of the above approaches."
   ]
  },
  {
   "cell_type": "code",
   "execution_count": null,
   "id": "6de38216-6d1c-48c4-877b-86d403f4e0f8",
   "metadata": {},
   "outputs": [],
   "source": []
  }
 ],
 "metadata": {
  "kernelspec": {
   "display_name": "Python 3 (ipykernel)",
   "language": "python",
   "name": "python3"
  },
  "language_info": {
   "codemirror_mode": {
    "name": "ipython",
    "version": 3
   },
   "file_extension": ".py",
   "mimetype": "text/x-python",
   "name": "python",
   "nbconvert_exporter": "python",
   "pygments_lexer": "ipython3",
   "version": "3.11.12"
  }
 },
 "nbformat": 4,
 "nbformat_minor": 5
}
